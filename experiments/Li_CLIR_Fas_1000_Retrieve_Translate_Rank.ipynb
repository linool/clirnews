{
 "cells": [
  {
   "cell_type": "code",
   "execution_count": 356,
   "id": "5e7a63df",
   "metadata": {},
   "outputs": [],
   "source": [
    "import json\n",
    "import lucene\n",
    "import numpy as np\n",
    "import chinese_converter\n",
    "import ir_measures\n",
    "from ir_measures import *\n",
    "from java.nio.file import Paths\n",
    "from org.apache.lucene.analysis.fa import PersianAnalyzer\n",
    "from org.apache.lucene.analysis.en import EnglishAnalyzer\n",
    "from org.apache.lucene.analysis.core import WhitespaceAnalyzer\n",
    "from org.apache.lucene.index import DirectoryReader\n",
    "from org.apache.lucene.store import FSDirectory\n",
    "from org.apache.lucene.queryparser.classic import QueryParser\n",
    "from org.apache.lucene.search import IndexSearcher\n",
    "from org.apache.lucene.search.similarities import BM25Similarity\n",
    "from sentence_transformers import CrossEncoder\n",
    "from sklearn.metrics import mean_squared_error "
   ]
  },
  {
   "cell_type": "code",
   "execution_count": 357,
   "id": "a43b01bc",
   "metadata": {},
   "outputs": [
    {
     "name": "stdout",
     "output_type": "stream",
     "text": [
      "JVM is already running, options are ineffective\n"
     ]
    }
   ],
   "source": [
    "# Initialize PyLucene\n",
    "try:\n",
    "    lucene.initVM(lucene.CLASSPATH, maxheap='3g')\n",
    "except Exception as e:\n",
    "    print(e)"
   ]
  },
  {
   "cell_type": "code",
   "execution_count": 358,
   "id": "b9ea066e",
   "metadata": {},
   "outputs": [],
   "source": [
    "with open('dict_docid_lang.txt') as f: \n",
    "    data = f.read() \n",
    "dict_docid_lang = json.loads(data)"
   ]
  },
  {
   "cell_type": "code",
   "execution_count": 359,
   "id": "a03af5ae",
   "metadata": {},
   "outputs": [],
   "source": [
    "Num_of_Retrieved_Docs = 1000\n",
    "dict_clir_id_text = {}\n",
    "dict_topic_lang_score_normal_rel = {}\n",
    "dict_qrels_topic_id_doc_id = {}\n",
    "dict_topic_id_topic_description_eng = {}\n",
    "dict_user_query = {}\n",
    "dict_id_english_text = {}"
   ]
  },
  {
   "cell_type": "code",
   "execution_count": 360,
   "id": "60fd4db5",
   "metadata": {},
   "outputs": [],
   "source": [
    "# Calculate Discounted Cumulative Gain (DCG)\n",
    "def calculate_dcg(relevance_scores):\n",
    "    return np.sum([((2 ** rel) - 1) / np.log2(rank + 2) for rank, rel in enumerate(relevance_scores)])\n",
    "\n",
    "def min_max_normalization(scores):\n",
    "    min_score = min(scores)\n",
    "    max_score = max(scores)\n",
    "    normalized_scores = [(score - min_score) / (max_score - min_score) for score in scores]\n",
    "    return normalized_scores"
   ]
  },
  {
   "cell_type": "code",
   "execution_count": 361,
   "id": "c575f87e",
   "metadata": {},
   "outputs": [],
   "source": [
    "def get_ratios_doclist(dict_docid_lang, doclist):\n",
    "    count_fas = 0\n",
    "    count_rus = 0\n",
    "    count_zho = 0\n",
    "    for docid in doclist: \n",
    "        if dict_docid_lang[docid] == 'fas': \n",
    "            count_fas = count_fas + 1\n",
    "        elif dict_docid_lang[docid] == 'rus': \n",
    "            count_rus = count_rus + 1\n",
    "        elif dict_docid_lang[docid] == 'zho': \n",
    "            count_zho = count_zho + 1\n",
    "    total = count_fas + count_rus + count_zho\n",
    "    return count_fas/total, count_rus/total, count_zho/total"
   ]
  },
  {
   "cell_type": "code",
   "execution_count": 362,
   "id": "685cb4f9",
   "metadata": {},
   "outputs": [],
   "source": [
    "def get_ratios_run_file(dict_docid_lang, run_file, k=0):\n",
    "    ratios_fas = []\n",
    "    ratios_rus = []\n",
    "    ratios_zho = []\n",
    "    dict_qid_doclist = {}\n",
    "    with open(run_file) as f: \n",
    "        for line in f:\n",
    "            data = line.split()\n",
    "            qid = data[0]\n",
    "            if qid not in dict_qid_doclist:\n",
    "                dict_qid_doclist[qid] = []\n",
    "            dict_qid_doclist[qid].append(data[2])\n",
    "    for qid in dict_qid_doclist:\n",
    "        doclist = dict_qid_doclist[qid]\n",
    "        if k == 0:\n",
    "            k = len(doclist)\n",
    "        doclist = doclist[:k]\n",
    "        r_fas, r_rus, r_zho = get_ratios_doclist(dict_docid_lang, doclist)\n",
    "        ratios_fas.append(r_fas)\n",
    "        ratios_rus.append(r_rus)\n",
    "        ratios_zho.append(r_zho)\n",
    "    return sum(ratios_fas)/len(ratios_fas), sum(ratios_rus)/len(ratios_rus), sum(ratios_zho)/len(ratios_zho)        "
   ]
  },
  {
   "cell_type": "code",
   "execution_count": 363,
   "id": "d6b3a7e1",
   "metadata": {},
   "outputs": [],
   "source": [
    "def alpha_dcg(relevance, ranking, alpha=0.5):\n",
    "    dcg = 0.0\n",
    "    topic_coverage = {}\n",
    "    for rank, doc_id in enumerate(ranking):\n",
    "        if doc_id not in relevance:\n",
    "            continue        \n",
    "        scores = relevance[doc_id]\n",
    "        gain_sum = 0.0\n",
    "        for topic_idx, score in enumerate(scores):\n",
    "            if score > 0:\n",
    "                if topic_idx not in topic_coverage:\n",
    "                    topic_coverage[topic_idx] = 0\n",
    "                gain = score * (1 - alpha) ** topic_coverage[topic_idx]\n",
    "                gain_sum += gain\n",
    "                topic_coverage[topic_idx] += 1\n",
    "        dcg += gain_sum / np.log2(rank + 2) \n",
    "    return dcg\n",
    "\n",
    "def ideal_alpha_dcg(relevance, alpha=0.5):\n",
    "    sorted_docs = sorted(relevance.keys(), key=lambda doc_id: sum(relevance[doc_id]), reverse=True)\n",
    "    return alpha_dcg(relevance, sorted_docs, alpha)\n",
    "\n",
    "def alpha_ndcg(relevance, ranking, alpha=0.5):\n",
    "    dcg = alpha_dcg(relevance, ranking, alpha)\n",
    "    idcg = ideal_alpha_dcg(relevance, alpha)\n",
    "    return dcg / idcg if idcg > 0 else 0.0"
   ]
  },
  {
   "cell_type": "code",
   "execution_count": 364,
   "id": "bf6de8fe",
   "metadata": {},
   "outputs": [],
   "source": [
    "def get_doc_rel_lang(dict_docid_lang, dict_qrels_topic_id_doc_id, qid, docid):\n",
    "    rel_fas_rus_zho = [0, 0, 0]\n",
    "    rel = 0\n",
    "    if docid in dict_qrels_topic_id_doc_id[qid]: \n",
    "        rel = dict_qrels_topic_id_doc_id[qid][docid]\n",
    "    if dict_docid_lang[docid] == 'fas':\n",
    "        rel_fas_rus_zho[0] = rel\n",
    "    elif dict_docid_lang[docid] == 'rus':\n",
    "        rel_fas_rus_zho[1] = rel\n",
    "    elif dict_docid_lang[docid] == 'zho':\n",
    "        rel_fas_rus_zho[2] = rel\n",
    "    return rel_fas_rus_zho    "
   ]
  },
  {
   "cell_type": "code",
   "execution_count": 365,
   "id": "376c5f04",
   "metadata": {},
   "outputs": [],
   "source": [
    "def get_alpha_ndcg_run_file(dict_docid_lang, dict_qrels_topic_id_doc_id, run_file, alpha, k=0):\n",
    "    alpha_ndcgs_list = []\n",
    "    dict_qid_doclist = {}\n",
    "    with open(run_file) as f: \n",
    "        for line in f:\n",
    "            data = line.split()\n",
    "            qid = data[0]\n",
    "            if qid not in dict_qid_doclist:\n",
    "                dict_qid_doclist[qid] = []\n",
    "            dict_qid_doclist[qid].append(data[2])\n",
    "    for qid in dict_qid_doclist:\n",
    "        doclist = dict_qid_doclist[qid]\n",
    "        if k == 0:\n",
    "            k = len(doclist)\n",
    "        doclist = doclist[:k]\n",
    "        relevance = {}\n",
    "        for docid in doclist:\n",
    "            relevance[docid] = get_doc_rel_lang(dict_docid_lang, dict_qrels_topic_id_doc_id, qid, docid)\n",
    "        alpha_ndcgs_list.append(alpha_ndcg(relevance, doclist, alpha))\n",
    "    return sum(alpha_ndcgs_list)/len(alpha_ndcgs_list)"
   ]
  },
  {
   "cell_type": "code",
   "execution_count": 366,
   "id": "f5f47c65",
   "metadata": {},
   "outputs": [],
   "source": [
    "topics = [t for t in map(json.loads, open(\"neuclir-2023-topics.0605.jsonl\"))]\n",
    "for t in topics:\n",
    "    for topic in t['topics']: \n",
    "        if topic['lang'] == 'eng':\n",
    "            dict_topic_id_topic_description_eng[t['topic_id']] = topic['topic_description']"
   ]
  },
  {
   "cell_type": "code",
   "execution_count": 367,
   "id": "da6dd650",
   "metadata": {},
   "outputs": [],
   "source": [
    "with open(\"qrels.final\", \"r\") as fp:\n",
    "    lines = fp.readlines()\n",
    "    for line in lines: \n",
    "        cols = line.strip().split()\n",
    "        topic_id = cols[0]\n",
    "        doc_id = cols[2]\n",
    "        qrels = int(cols[3])\n",
    "        if topic_id in dict_qrels_topic_id_doc_id: \n",
    "            dict_qrels_topic_id_doc_id[topic_id][doc_id] = qrels\n",
    "        else: \n",
    "            dict_qrels_topic_id_doc_id[topic_id] = {}\n",
    "            dict_qrels_topic_id_doc_id[topic_id][doc_id] = qrels                "
   ]
  },
  {
   "cell_type": "code",
   "execution_count": 368,
   "id": "682c9a3d",
   "metadata": {},
   "outputs": [],
   "source": [
    "dict_user_query = {}\n",
    "for t in topics:\n",
    "    user_query = {}\n",
    "    for topic in t['topics']: \n",
    "        if topic['lang'] == 'eng': \n",
    "            user_query[topic['lang']] = topic['topic_title']\n",
    "        else: \n",
    "            if topic['source'] == 'google translation':\n",
    "                if topic['lang'] == 'zho':\n",
    "                    user_query[topic['lang']] = chinese_converter.to_simplified(topic['topic_title'])\n",
    "                    #user_query[topic['lang']] = topic['topic_title']\n",
    "                else:\n",
    "                    user_query[topic['lang']] = topic['topic_title']\n",
    "    dict_user_query[t['topic_id']] = user_query"
   ]
  },
  {
   "cell_type": "code",
   "execution_count": 369,
   "id": "272646ff",
   "metadata": {},
   "outputs": [],
   "source": [
    "persian_analyzer = PersianAnalyzer()\n",
    "english_analyzer = EnglishAnalyzer()\n",
    "whitespace_analyzer = WhitespaceAnalyzer()\n",
    "\n",
    "# Open the Lucene indexes\n",
    "index_directory_fas = FSDirectory.open(Paths.get(\"/path/neuclir1/index_fas\"))\n",
    "index_directory_eng = FSDirectory.open(Paths.get(\"/path/neuclir1/index_eng\"))\n",
    "# Use IndexSearcher to search the index\n",
    "index_searcher_fas = IndexSearcher(DirectoryReader.open(index_directory_fas))\n",
    "index_searcher_fas.setSimilarity(BM25Similarity())\n",
    "index_searcher_eng = IndexSearcher(DirectoryReader.open(index_directory_eng))\n",
    "index_searcher_eng.setSimilarity(BM25Similarity())\n",
    "# Create a QueryParser with the same analyzer used during indexing\n",
    "query_parser_fas = QueryParser(\"titletext\", persian_analyzer)\n",
    "query_parser_eng = QueryParser(\"titletext\", english_analyzer)\n",
    "query_parser_id = QueryParser(\"id\", whitespace_analyzer)"
   ]
  },
  {
   "cell_type": "code",
   "execution_count": 372,
   "id": "b93613ba",
   "metadata": {},
   "outputs": [
    {
     "name": "stderr",
     "output_type": "stream",
     "text": [
      "/tmp/ipykernel_32056/841274921.py:46: RuntimeWarning: invalid value encountered in scalar divide\n",
      "  ndcg = dcg / idcg\n"
     ]
    }
   ],
   "source": [
    "for key in dict_user_query: \n",
    "    query_topic_id = key\n",
    "    user_query = dict_user_query[key]\n",
    "    # Parse the user's query\n",
    "    if 'fas' not in user_query:\n",
    "        continue\n",
    "    #print(key, user_query['fas'])\n",
    "    parsed_query_fas = query_parser_fas.parse(user_query['fas'])    \n",
    "    search_results_fas = index_searcher_fas.search(parsed_query_fas, Num_of_Retrieved_Docs)\n",
    "    results_scores_fas = []\n",
    "    results_scores_fas_id = []\n",
    "    dict_id_score = {}\n",
    "    # Process search results\n",
    "    for score_doc in search_results_fas.scoreDocs:\n",
    "        results_scores_fas.append(score_doc.score)\n",
    "        doc_id = score_doc.doc\n",
    "        #print(doc_id)\n",
    "        doc = index_searcher_fas.doc(doc_id)\n",
    "        id = doc.get(\"id\")\n",
    "        #title = doc.get(\"title\")\n",
    "        text = doc.get(\"titletext\")\n",
    "        #url = doc.get(\"url\")\n",
    "        dict_clir_id_text[id] = text\n",
    "        results_scores_fas_id.append(id)\n",
    "        dict_id_score[id] = score_doc.score\n",
    "    ranked_list = results_scores_fas_id\n",
    "    #print(ranked_list)\n",
    "    relevance_scores = []\n",
    "    for i in range(len(ranked_list)):\n",
    "        doc_id = ranked_list[i]\n",
    "        if doc_id in dict_qrels_topic_id_doc_id[query_topic_id]: \n",
    "            relevance_scores.append(dict_qrels_topic_id_doc_id[query_topic_id][doc_id])\n",
    "        else: \n",
    "            relevance_scores.append(0)\n",
    "    if key not in dict_topic_lang_score_normal_rel:\n",
    "        dict_topic_lang_score_normal_rel[key] = {}\n",
    "    dict_topic_lang_score_normal_rel[key]['fas'] = []\n",
    "    dict_topic_lang_score_normal_rel[key]['fas'].append(list(zip(results_scores_fas, relevance_scores)))\n",
    "    dict_topic_lang_score_normal_rel[key]['fas'].append(list(zip(min_max_normalization(results_scores_fas), relevance_scores)))\n",
    "    dict_topic_lang_score_normal_rel[key]['fas'].append(ranked_list)\n",
    "    dcg = calculate_dcg(relevance_scores)\n",
    "    # Calculate Ideal Discounted Cumulative Gain (IDCG)\n",
    "    ideal_relevance_scores = sorted(relevance_scores, reverse=True)\n",
    "    idcg = calculate_dcg(ideal_relevance_scores)\n",
    "    # Calculate NDCG score\n",
    "    ndcg = dcg / idcg\n",
    "    # print(\"Discounted Cumulative Gain (DCG):\", dcg)\n",
    "    # print(\"Ideal Discounted Cumulative Gain (IDCG):\", idcg)\n",
    "    # print(\"NDCG score:\", ndcg)"
   ]
  },
  {
   "cell_type": "code",
   "execution_count": 377,
   "id": "697b725b",
   "metadata": {},
   "outputs": [],
   "source": [
    "with open('fas-teamli-1ANPS_run1', 'w') as f: \n",
    "    for key in dict_topic_lang_score_normal_rel:\n",
    "        ranked_docs = dict_topic_lang_score_normal_rel[key]['fas'][2]\n",
    "        for i in range(len(ranked_docs)):\n",
    "            print(key, 'Q0', ranked_docs[i], i+1, dict_topic_lang_score_normal_rel[key]['fas'][1][i][0], 'fas-teamli-1ANPS_run1', file=f)"
   ]
  },
  {
   "cell_type": "code",
   "execution_count": 478,
   "id": "10849755",
   "metadata": {},
   "outputs": [
    {
     "data": {
      "text/plain": [
       "{R@100: 0.4665427333962955,\n",
       " nDCG@20: 0.2744568858187121,\n",
       " R@50: 0.3869539562875874,\n",
       " R@1000: 0.6710477383378854,\n",
       " R@20: 0.2766463566668324,\n",
       " nDCG@50: 0.3097875923490143}"
      ]
     },
     "execution_count": 478,
     "metadata": {},
     "output_type": "execute_result"
    }
   ],
   "source": [
    "#qrels = ir_measures.read_trec_qrels('qrels.final.gains.fas')\n",
    "qrels = ir_measures.read_trec_qrels('qrels.final.gains.fas')\n",
    "run = ir_measures.read_trec_run('fas-teamli-1ANPS_run1')\n",
    "ir_measures.calc_aggregate([nDCG@20, nDCG@50, R@20, R@50, R@100, R@1000], qrels, run)"
   ]
  },
  {
   "cell_type": "code",
   "execution_count": 449,
   "id": "d215b4f0",
   "metadata": {},
   "outputs": [
    {
     "name": "stdout",
     "output_type": "stream",
     "text": [
      "0.5386605526118783\n"
     ]
    }
   ],
   "source": [
    "print(get_alpha_ndcg_run_file(dict_docid_lang, dict_qrels_topic_id_doc_id, 'fas-teamli-1ANPS_run1', 0.5, k=20))"
   ]
  },
  {
   "cell_type": "code",
   "execution_count": 392,
   "id": "93eb877a",
   "metadata": {},
   "outputs": [],
   "source": [
    "def get_translated_title_text_by_id(doc_id, index_searcher_eng, query_parser_id): \n",
    "    query_id = query_parser_id.parse(doc_id)\n",
    "    #print(query_id)\n",
    "    search_results = index_searcher_eng.search(query_id, 1)\n",
    "    str_to_get = ''\n",
    "    for score_doc in search_results.scoreDocs:\n",
    "        tmp_id = score_doc.doc\n",
    "        doc = index_searcher_eng.doc(tmp_id)\n",
    "        str_to_get = str_to_get + doc.get(\"titletext\") + ' '\n",
    "    return str_to_get"
   ]
  },
  {
   "cell_type": "code",
   "execution_count": 393,
   "id": "d1224891",
   "metadata": {},
   "outputs": [],
   "source": [
    "dict_topic_title_english_doc_score1 = {}\n",
    "#model1 = CrossEncoder(\"cross-encoder/ms-marco-MiniLM-L-6-v2\", max_length=512)\n",
    "model1 = CrossEncoder(\"cross-encoder/ms-marco-TinyBERT-L-2-v2\", max_length=512)\n",
    "for topic_id in dict_topic_lang_score_normal_rel:\n",
    "    doc_id_list = dict_topic_lang_score_normal_rel[topic_id]['fas'][2]\n",
    "    #query = dict_user_query[topic_id]['eng']\n",
    "    query = dict_topic_id_topic_description_eng[topic_id]\n",
    "    #query = dict_user_query[topic_id]['eng']+ ' ' +dict_topic_id_topic_description_eng[topic_id]\n",
    "    english_docs_list = []\n",
    "    query_list = []\n",
    "    for i in range(len(doc_id_list)):\n",
    "        tmp_id = doc_id_list[i]\n",
    "        english_docs_list.append(get_translated_title_text_by_id(tmp_id, index_searcher_eng, query_parser_id))\n",
    "        query_list.append(query)\n",
    "    scores = model1.predict(list(zip(query_list, english_docs_list)))\n",
    "    dict_topic_title_english_doc_score1[topic_id] = sorted(zip(doc_id_list, scores), key = lambda x : x[1], reverse = True)"
   ]
  },
  {
   "cell_type": "code",
   "execution_count": 394,
   "id": "ce273ab7",
   "metadata": {},
   "outputs": [],
   "source": [
    "with open('clir-test_run_fas', 'w') as f: \n",
    "    for topic_id in dict_topic_title_english_doc_score1:\n",
    "        ranked_docs_socres = dict_topic_title_english_doc_score1[topic_id]\n",
    "        for i in range(len(ranked_docs_socres)):\n",
    "            print(topic_id, 'Q0', ranked_docs_socres[i][0], i+1, ranked_docs_socres[i][1], 'clir-test_run_fas', file=f) "
   ]
  },
  {
   "cell_type": "code",
   "execution_count": 395,
   "id": "c512e9e6",
   "metadata": {},
   "outputs": [
    {
     "data": {
      "text/plain": [
       "{R@100: 0.5534226419746273,\n",
       " nDCG@20: 0.32340445680512164,\n",
       " R@50: 0.4496189095787948,\n",
       " R@1000: 0.7313655891545983,\n",
       " R@20: 0.34382297027372,\n",
       " nDCG@50: 0.35997865915194566}"
      ]
     },
     "execution_count": 395,
     "metadata": {},
     "output_type": "execute_result"
    }
   ],
   "source": [
    "qrels = ir_measures.read_trec_qrels('qrels.final.gains.fas')\n",
    "run = ir_measures.read_trec_run('clir-test_run_fas')\n",
    "ir_measures.calc_aggregate([nDCG@20, nDCG@50, R@20, R@50, R@100, R@1000], qrels, run)"
   ]
  },
  {
   "cell_type": "code",
   "execution_count": 396,
   "id": "4e98fb02",
   "metadata": {},
   "outputs": [
    {
     "name": "stdout",
     "output_type": "stream",
     "text": [
      "(0.0, 0.0, 1.0)\n"
     ]
    }
   ],
   "source": [
    "print(get_ratios_run_file(dict_docid_lang, 'clir-test_run_fas', 1000))"
   ]
  },
  {
   "cell_type": "code",
   "execution_count": 491,
   "id": "b3b41e38",
   "metadata": {},
   "outputs": [],
   "source": [
    "dict_topic_title_english_doc_score2 = {}\n",
    "model2 = CrossEncoder(\"cross-encoder/ms-marco-MiniLM-L-6-v2\", max_length=512)\n",
    "#model2 = CrossEncoder(\"cross-encoder/ms-marco-TinyBERT-L-2-v2\", max_length=512)\n",
    "for topic_id in dict_topic_lang_score_normal_rel:\n",
    "    doc_id_list = dict_topic_lang_score_normal_rel[topic_id]['fas'][2]\n",
    "    #query = dict_user_query[topic_id]['eng']\n",
    "    #query = dict_topic_id_topic_description_eng[topic_id]\n",
    "    query = dict_user_query[topic_id]['eng']+ ' ' +dict_topic_id_topic_description_eng[topic_id]\n",
    "    english_docs_list = []\n",
    "    query_list = []\n",
    "    for i in range(len(doc_id_list)):\n",
    "        tmp_id = doc_id_list[i]\n",
    "        english_docs_list.append(get_translated_title_text_by_id(tmp_id, index_searcher_eng, query_parser_id))\n",
    "        query_list.append(query)\n",
    "    scores = model2.predict(list(zip(query_list, english_docs_list)))\n",
    "    dict_topic_title_english_doc_score2[topic_id] = sorted(zip(doc_id_list, scores), key = lambda x : x[1], reverse = True)\n",
    "\n",
    "with open('clir-test_run_fas2', 'w') as f: \n",
    "    for topic_id in dict_topic_title_english_doc_score2:\n",
    "        ranked_docs_socres = dict_topic_title_english_doc_score2[topic_id]\n",
    "        for i in range(len(ranked_docs_socres)):\n",
    "            print(topic_id, 'Q0', ranked_docs_socres[i][0], i+1, ranked_docs_socres[i][1], 'clir-test_run_fas2', file=f) "
   ]
  },
  {
   "cell_type": "code",
   "execution_count": 492,
   "id": "f228c839",
   "metadata": {},
   "outputs": [
    {
     "data": {
      "text/plain": [
       "{R@100: 0.5618318693519773,\n",
       " nDCG@20: 0.40661098786265454,\n",
       " R@50: 0.49889639907559025,\n",
       " R@1000: 0.6710477383378854,\n",
       " R@20: 0.39183452537224955,\n",
       " nDCG@50: 0.43631357430903334}"
      ]
     },
     "execution_count": 492,
     "metadata": {},
     "output_type": "execute_result"
    }
   ],
   "source": [
    "qrels = ir_measures.read_trec_qrels('qrels.final.gains.fas')\n",
    "run = ir_measures.read_trec_run('clir-test_run_fas2')\n",
    "ir_measures.calc_aggregate([nDCG@20, nDCG@50, R@20, R@50, R@100, R@1000], qrels, run)"
   ]
  },
  {
   "cell_type": "code",
   "execution_count": 494,
   "id": "748079f1",
   "metadata": {},
   "outputs": [
    {
     "name": "stdout",
     "output_type": "stream",
     "text": [
      "0.6600738495919617\n"
     ]
    }
   ],
   "source": [
    "print(get_alpha_ndcg_run_file(dict_docid_lang, dict_qrels_topic_id_doc_id, 'clir-test_run_fas2', 0.5, k=20))"
   ]
  },
  {
   "cell_type": "code",
   "execution_count": null,
   "id": "aa53d411",
   "metadata": {},
   "outputs": [],
   "source": [
    "# Close the Lucene index readers\n",
    "index_searcher_fas.getIndexReader().close()\n",
    "index_searcher_eng.getIndexReader().close()\n",
    "\n",
    "# Close the Lucene index directories\n",
    "index_directory_fas.close()\n",
    "index_directory_eng.close()"
   ]
  }
 ],
 "metadata": {
  "kernelspec": {
   "display_name": "Python 3 (ipykernel)",
   "language": "python",
   "name": "python3"
  },
  "language_info": {
   "codemirror_mode": {
    "name": "ipython",
    "version": 3
   },
   "file_extension": ".py",
   "mimetype": "text/x-python",
   "name": "python",
   "nbconvert_exporter": "python",
   "pygments_lexer": "ipython3",
   "version": "3.12.2"
  }
 },
 "nbformat": 4,
 "nbformat_minor": 5
}
