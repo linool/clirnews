{
 "cells": [
  {
   "cell_type": "code",
   "execution_count": 11,
   "metadata": {},
   "outputs": [],
   "source": [
    "dict_docid_lang = {}"
   ]
  },
  {
   "cell_type": "code",
   "execution_count": 12,
   "metadata": {},
   "outputs": [],
   "source": [
    "fas_docs = '/path/neuclir1/fas/docs.jsonl'\n",
    "rus_docs = '/path/neuclir1/rus/docs.jsonl'\n",
    "zho_docs = '/path/neuclir1/zho/docs.jsonl'"
   ]
  },
  {
   "cell_type": "code",
   "execution_count": 13,
   "metadata": {},
   "outputs": [],
   "source": [
    "with open(fas_docs, 'r', encoding='utf-8', errors = 'ignore') as file:\n",
    "    lines = file.readlines()\n",
    "    for line in lines:\n",
    "        try: \n",
    "            json_data = json.loads(line.strip())\n",
    "            dict_docid_lang[json_data['id']] = 'fas'\n",
    "        except Exception as e: \n",
    "            continue        "
   ]
  },
  {
   "cell_type": "code",
   "execution_count": 14,
   "metadata": {},
   "outputs": [],
   "source": [
    "with open(rus_docs, 'r', encoding='utf-8', errors = 'ignore') as file:\n",
    "    lines = file.readlines()\n",
    "    for line in lines:\n",
    "        try: \n",
    "            json_data = json.loads(line.strip())\n",
    "            dict_docid_lang[json_data['id']] = 'rus'\n",
    "        except Exception as e: \n",
    "            continue  "
   ]
  },
  {
   "cell_type": "code",
   "execution_count": 15,
   "metadata": {},
   "outputs": [],
   "source": [
    "with open(zho_docs, 'r', encoding='utf-8', errors = 'ignore') as file:\n",
    "    lines = file.readlines()\n",
    "    for line in lines:\n",
    "        try: \n",
    "            json_data = json.loads(line.strip())\n",
    "            dict_docid_lang[json_data['id']] = 'zho'\n",
    "        except Exception as e: \n",
    "            continue  "
   ]
  },
  {
   "cell_type": "code",
   "execution_count": 16,
   "metadata": {},
   "outputs": [],
   "source": [
    "#import json   \n",
    "#with open('dict_docid_lang.txt', 'w') as convert_file: \n",
    "     #convert_file.write(json.dumps(dict_docid_lang))"
   ]
  },
  {
   "cell_type": "code",
   "execution_count": 2,
   "metadata": {},
   "outputs": [
    {
     "name": "stdout",
     "output_type": "stream",
     "text": [
      "Data type before reconstruction :  <class 'str'>\n"
     ]
    }
   ],
   "source": [
    "import json    \n",
    "with open('dict_docid_lang.txt') as f: \n",
    "    data = f.read() \n",
    "dict_docid_lang = json.loads(data) "
   ]
  },
  {
   "cell_type": "code",
   "execution_count": 3,
   "metadata": {},
   "outputs": [
    {
     "name": "stdout",
     "output_type": "stream",
     "text": [
      "2232016\n"
     ]
    }
   ],
   "source": [
    "count_fas = 0\n",
    "for docid in dict_docid_lang: \n",
    "    if dict_docid_lang[docid] == 'fas':\n",
    "        count_fas = count_fas + 1\n",
    "print(count_fas)"
   ]
  },
  {
   "cell_type": "code",
   "execution_count": null,
   "metadata": {},
   "outputs": [],
   "source": []
  }
 ],
 "metadata": {
  "kernelspec": {
   "display_name": "Python 3 (ipykernel)",
   "language": "python",
   "name": "python3"
  },
  "language_info": {
   "codemirror_mode": {
    "name": "ipython",
    "version": 3
   },
   "file_extension": ".py",
   "mimetype": "text/x-python",
   "name": "python",
   "nbconvert_exporter": "python",
   "pygments_lexer": "ipython3",
   "version": "3.12.2"
  }
 },
 "nbformat": 4,
 "nbformat_minor": 4
}
